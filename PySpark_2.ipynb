{
 "cells": [
  {
   "cell_type": "code",
   "execution_count": 3,
   "metadata": {},
   "outputs": [],
   "source": [
    "import findspark\n",
    "findspark.init()"
   ]
  },
  {
   "cell_type": "code",
   "execution_count": 4,
   "metadata": {
    "collapsed": true
   },
   "outputs": [],
   "source": [
    "from pyspark import SparkConf,SparkContext"
   ]
  },
  {
   "cell_type": "code",
   "execution_count": 6,
   "metadata": {},
   "outputs": [],
   "source": [
    "conf = SparkConf().setMaster(\"local\").setAppName(\"KeyValueRDD\")\n",
    "sc = SparkContext(conf=conf)"
   ]
  },
  {
   "cell_type": "code",
   "execution_count": 10,
   "metadata": {
    "collapsed": true
   },
   "outputs": [],
   "source": [
    "# rdd.map(lambda x : (x,1))  -> this is how key value RDD is formed\n",
    "\n",
    "# rdd.reduceByKey(lambda x,y : x+y)\n",
    "# groupByKey()\n",
    "# sortByKey()\n",
    "# rdd.values()  -> to get the rdd of only values\n",
    "# rdd.keys()  -> to get the rdd of only keys\n",
    "\n",
    "\n",
    "# SQL style joins on 2 key-value RDDs\n",
    "# join , rightOuterJoin , leftOuterJoin , cogroup , subtractByKey\n",
    "\n",
    "# With key-value data,use mapValues() and flatMapValues() if your transformation doesn't affect the keys i.e when keys\n",
    "# are not being modified"
   ]
  },
  {
   "cell_type": "code",
   "execution_count": null,
   "metadata": {
    "collapsed": true
   },
   "outputs": [],
   "source": []
  }
 ],
 "metadata": {
  "kernelspec": {
   "display_name": "Python 3",
   "language": "python",
   "name": "python3"
  },
  "language_info": {
   "codemirror_mode": {
    "name": "ipython",
    "version": 3
   },
   "file_extension": ".py",
   "mimetype": "text/x-python",
   "name": "python",
   "nbconvert_exporter": "python",
   "pygments_lexer": "ipython3",
   "version": "3.6.3"
  }
 },
 "nbformat": 4,
 "nbformat_minor": 2
}
