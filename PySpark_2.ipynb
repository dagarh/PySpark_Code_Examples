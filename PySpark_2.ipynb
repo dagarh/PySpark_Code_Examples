{
 "cells": [
  {
   "cell_type": "code",
   "execution_count": 3,
   "metadata": {},
   "outputs": [],
   "source": [
    "import findspark\n",
    "findspark.init()"
   ]
  },
  {
   "cell_type": "code",
   "execution_count": 4,
   "metadata": {
    "collapsed": true
   },
   "outputs": [],
   "source": [
    "from pyspark import SparkConf,SparkContext"
   ]
  },
  {
   "cell_type": "code",
   "execution_count": 6,
   "metadata": {},
   "outputs": [],
   "source": [
    "conf = SparkConf().setMaster(\"local\").setAppName(\"KeyValueRDD\")\n",
    "sc = SparkContext(conf=conf)"
   ]
  },
  {
   "cell_type": "code",
   "execution_count": 10,
   "metadata": {
    "collapsed": true
   },
   "outputs": [],
   "source": [
    "# rdd.map(lambda x : (x,1))  -> this is how key value RDD is formed\n",
    "\n",
    "# rdd.reduceByKey(lambda x,y : x+y)   --> it is an action\n",
    "# groupByKey()\n",
    "# sortByKey()\n",
    "# rdd.values()  -> to get the rdd of only values\n",
    "# rdd.keys()  -> to get the rdd of only keys\n",
    "\n",
    "\n",
    "# SQL style joins on 2 key-value RDDs\n",
    "# join , rightOuterJoin , leftOuterJoin , cogroup , subtractByKey\n",
    "\n",
    "# With key-value data,use mapValues() and flatMapValues() if your transformation doesn't affect the keys i.e when keys\n",
    "# are not being modified"
   ]
  },
  {
   "cell_type": "code",
   "execution_count": 11,
   "metadata": {
    "collapsed": true
   },
   "outputs": [],
   "source": [
    "rdd = sc.textFile(\"file:///Users/hdagar3/Documents/Spark_Things/Spark_Course_Files/fakefriends.csv\")"
   ]
  },
  {
   "cell_type": "code",
   "execution_count": 36,
   "metadata": {},
   "outputs": [
    {
     "name": "stdout",
     "output_type": "stream",
     "text": [
      "<class 'pyspark.rdd.RDD'>\n"
     ]
    }
   ],
   "source": [
    "print(type(rdd))"
   ]
  },
  {
   "cell_type": "code",
   "execution_count": 37,
   "metadata": {
    "collapsed": true
   },
   "outputs": [],
   "source": [
    "def split_line(line):\n",
    "    info = line.split(',')\n",
    "    age = int(info[2])\n",
    "    friends = int(info[3])\n",
    "    return (age,friends)"
   ]
  },
  {
   "cell_type": "code",
   "execution_count": 38,
   "metadata": {},
   "outputs": [],
   "source": [
    "ageFriendsRDD = rdd.map(split_line)  # (age,number of friends) , one value means one line"
   ]
  },
  {
   "cell_type": "code",
   "execution_count": 56,
   "metadata": {},
   "outputs": [
    {
     "name": "stdout",
     "output_type": "stream",
     "text": [
      "<class 'pyspark.rdd.PipelinedRDD'>\n"
     ]
    }
   ],
   "source": [
    "print(type(ageFriendsRDD))"
   ]
  },
  {
   "cell_type": "code",
   "execution_count": 57,
   "metadata": {},
   "outputs": [],
   "source": [
    "# print(ageFriendsRDD.collect())"
   ]
  },
  {
   "cell_type": "code",
   "execution_count": 58,
   "metadata": {
    "collapsed": true
   },
   "outputs": [],
   "source": [
    "# groupedRDD = ageFriendsRDD.groupByKey()"
   ]
  },
  {
   "cell_type": "code",
   "execution_count": 59,
   "metadata": {},
   "outputs": [],
   "source": [
    "# print(groupedRDD.collect())"
   ]
  },
  {
   "cell_type": "code",
   "execution_count": 60,
   "metadata": {},
   "outputs": [],
   "source": [
    "modifiedAgeFriendsRDD = ageFriendsRDD.mapValues(lambda x:(x,1)) # Here you will get x as just values, not keys because\n",
    "# mapValues() function is used on rdd instead of map()"
   ]
  },
  {
   "cell_type": "code",
   "execution_count": 61,
   "metadata": {
    "collapsed": true
   },
   "outputs": [],
   "source": [
    "reducedRDD = modifiedAgeFriendsRDD.reduceByKey(lambda x,y : (x[0]+y[0],x[1]+y[1]))  \n",
    "# So here you would get x and y both as tuples\n",
    "# in reduceByKey(lambda x,y: ...do something...) --> here in lambda function, values are passed only(not keys) "
   ]
  },
  {
   "cell_type": "code",
   "execution_count": 63,
   "metadata": {},
   "outputs": [
    {
     "name": "stdout",
     "output_type": "stream",
     "text": [
      "[(33, (3904, 12)), (26, (4115, 17)), (55, (3842, 13)), (40, (4264, 17)), (68, (2696, 10)), (59, (1980, 9)), (37, (2244, 9)), (54, (3615, 13)), (38, (2903, 15)), (27, (1825, 8)), (53, (1560, 7)), (57, (3106, 12)), (56, (1840, 6)), (43, (1614, 7)), (36, (2466, 10)), (22, (1445, 7)), (35, (1693, 8)), (45, (4024, 13)), (60, (1419, 7)), (67, (3434, 16)), (19, (2346, 11)), (30, (2594, 11)), (51, (2115, 7)), (25, (2172, 11)), (21, (2807, 8)), (42, (1821, 6)), (49, (1108, 6)), (48, (2814, 10)), (50, (1273, 5)), (39, (1185, 7)), (32, (2287, 11)), (58, (1282, 11)), (64, (3376, 12)), (31, (2138, 8)), (52, (3747, 11)), (24, (1169, 5)), (20, (825, 5)), (62, (2870, 13)), (41, (2417, 9)), (44, (3386, 12)), (69, (2352, 10)), (65, (1491, 5)), (61, (2306, 9)), (28, (2091, 10)), (66, (2488, 9)), (46, (2908, 13)), (29, (2591, 12)), (18, (2747, 8)), (47, (2099, 9)), (34, (1473, 6)), (63, (1536, 4)), (23, (2463, 10))]\n",
      "<class 'list'>\n"
     ]
    }
   ],
   "source": [
    "print(reducedRDD.collect())\n",
    "print(type(reducedRDD.collect()))"
   ]
  },
  {
   "cell_type": "code",
   "execution_count": 66,
   "metadata": {},
   "outputs": [
    {
     "name": "stdout",
     "output_type": "stream",
     "text": [
      "52\n",
      "<class 'int'>\n"
     ]
    }
   ],
   "source": [
    "print(reducedRDD.count())\n",
    "print(type(reducedRDD.count()))"
   ]
  },
  {
   "cell_type": "code",
   "execution_count": 70,
   "metadata": {
    "collapsed": true
   },
   "outputs": [],
   "source": [
    "finalRDD = reducedRDD.mapValues(lambda x:x[0]/x[1])"
   ]
  },
  {
   "cell_type": "code",
   "execution_count": 71,
   "metadata": {},
   "outputs": [
    {
     "name": "stdout",
     "output_type": "stream",
     "text": [
      "[(33, 325.3333333333333), (26, 242.05882352941177), (55, 295.53846153846155), (40, 250.8235294117647), (68, 269.6), (59, 220.0), (37, 249.33333333333334), (54, 278.0769230769231), (38, 193.53333333333333), (27, 228.125), (53, 222.85714285714286), (57, 258.8333333333333), (56, 306.6666666666667), (43, 230.57142857142858), (36, 246.6), (22, 206.42857142857142), (35, 211.625), (45, 309.53846153846155), (60, 202.71428571428572), (67, 214.625), (19, 213.27272727272728), (30, 235.8181818181818), (51, 302.14285714285717), (25, 197.45454545454547), (21, 350.875), (42, 303.5), (49, 184.66666666666666), (48, 281.4), (50, 254.6), (39, 169.28571428571428), (32, 207.9090909090909), (58, 116.54545454545455), (64, 281.3333333333333), (31, 267.25), (52, 340.6363636363636), (24, 233.8), (20, 165.0), (62, 220.76923076923077), (41, 268.55555555555554), (44, 282.1666666666667), (69, 235.2), (65, 298.2), (61, 256.22222222222223), (28, 209.1), (66, 276.44444444444446), (46, 223.69230769230768), (29, 215.91666666666666), (18, 343.375), (47, 233.22222222222223), (34, 245.5), (63, 384.0), (23, 246.3)]\n"
     ]
    }
   ],
   "source": [
    "print(finalRDD.collect())"
   ]
  },
  {
   "cell_type": "code",
   "execution_count": 72,
   "metadata": {},
   "outputs": [
    {
     "name": "stdout",
     "output_type": "stream",
     "text": [
      "(33, 325.3333333333333)\n",
      "(26, 242.05882352941177)\n",
      "(55, 295.53846153846155)\n",
      "(40, 250.8235294117647)\n",
      "(68, 269.6)\n",
      "(59, 220.0)\n",
      "(37, 249.33333333333334)\n",
      "(54, 278.0769230769231)\n",
      "(38, 193.53333333333333)\n",
      "(27, 228.125)\n",
      "(53, 222.85714285714286)\n",
      "(57, 258.8333333333333)\n",
      "(56, 306.6666666666667)\n",
      "(43, 230.57142857142858)\n",
      "(36, 246.6)\n",
      "(22, 206.42857142857142)\n",
      "(35, 211.625)\n",
      "(45, 309.53846153846155)\n",
      "(60, 202.71428571428572)\n",
      "(67, 214.625)\n",
      "(19, 213.27272727272728)\n",
      "(30, 235.8181818181818)\n",
      "(51, 302.14285714285717)\n",
      "(25, 197.45454545454547)\n",
      "(21, 350.875)\n",
      "(42, 303.5)\n",
      "(49, 184.66666666666666)\n",
      "(48, 281.4)\n",
      "(50, 254.6)\n",
      "(39, 169.28571428571428)\n",
      "(32, 207.9090909090909)\n",
      "(58, 116.54545454545455)\n",
      "(64, 281.3333333333333)\n",
      "(31, 267.25)\n",
      "(52, 340.6363636363636)\n",
      "(24, 233.8)\n",
      "(20, 165.0)\n",
      "(62, 220.76923076923077)\n",
      "(41, 268.55555555555554)\n",
      "(44, 282.1666666666667)\n",
      "(69, 235.2)\n",
      "(65, 298.2)\n",
      "(61, 256.22222222222223)\n",
      "(28, 209.1)\n",
      "(66, 276.44444444444446)\n",
      "(46, 223.69230769230768)\n",
      "(29, 215.91666666666666)\n",
      "(18, 343.375)\n",
      "(47, 233.22222222222223)\n",
      "(34, 245.5)\n",
      "(63, 384.0)\n",
      "(23, 246.3)\n"
     ]
    }
   ],
   "source": [
    "results = finalRDD.collect()\n",
    "\n",
    "for result in results:\n",
    "    print(result)"
   ]
  },
  {
   "cell_type": "code",
   "execution_count": null,
   "metadata": {
    "collapsed": true
   },
   "outputs": [],
   "source": [
    "# END"
   ]
  }
 ],
 "metadata": {
  "kernelspec": {
   "display_name": "Python 3",
   "language": "python",
   "name": "python3"
  },
  "language_info": {
   "codemirror_mode": {
    "name": "ipython",
    "version": 3
   },
   "file_extension": ".py",
   "mimetype": "text/x-python",
   "name": "python",
   "nbconvert_exporter": "python",
   "pygments_lexer": "ipython3",
   "version": "3.6.3"
  }
 },
 "nbformat": 4,
 "nbformat_minor": 2
}
