{
 "cells": [
  {
   "cell_type": "code",
   "execution_count": 1,
   "metadata": {
    "collapsed": true
   },
   "outputs": [],
   "source": [
    "import findspark\n",
    "findspark.init()"
   ]
  },
  {
   "cell_type": "code",
   "execution_count": 2,
   "metadata": {
    "collapsed": true
   },
   "outputs": [],
   "source": [
    "from pyspark import SparkConf,SparkContext"
   ]
  },
  {
   "cell_type": "code",
   "execution_count": 3,
   "metadata": {
    "collapsed": true
   },
   "outputs": [],
   "source": [
    "conf = SparkConf().setMaster(\"local\").setAppName(\"MinimumTemperatureByLocation\")\n",
    "sc = SparkContext(conf=conf)"
   ]
  },
  {
   "cell_type": "code",
   "execution_count": 4,
   "metadata": {
    "collapsed": true
   },
   "outputs": [],
   "source": [
    "base_rdd = sc.textFile(\"file:///Users/hdagar3/Documents/Spark_Things/Spark_Course_Files/1800.csv\")"
   ]
  },
  {
   "cell_type": "code",
   "execution_count": 5,
   "metadata": {
    "collapsed": true
   },
   "outputs": [],
   "source": [
    "# filter removes data from your RDD, it is a transformation\n",
    "# filter just takes a function which returns a boolean"
   ]
  },
  {
   "cell_type": "code",
   "execution_count": 21,
   "metadata": {
    "collapsed": true
   },
   "outputs": [],
   "source": [
    "print(base_rdd.collect())"
   ]
  },
  {
   "cell_type": "code",
   "execution_count": 7,
   "metadata": {
    "collapsed": true
   },
   "outputs": [],
   "source": [
    "def function(line):          # here line will come in form of string\n",
    "    info = line.split(',')\n",
    "    stationID = info[0]\n",
    "    entryType = info[2]\n",
    "    temp = float(info[3])\n",
    "    return (stationID,entryType,temp)\n",
    "    "
   ]
  },
  {
   "cell_type": "code",
   "execution_count": 8,
   "metadata": {
    "collapsed": true
   },
   "outputs": [],
   "source": [
    "improvedRDD = base_rdd.map(function)"
   ]
  },
  {
   "cell_type": "code",
   "execution_count": 22,
   "metadata": {
    "collapsed": true
   },
   "outputs": [],
   "source": [
    "print(improvedRDD.collect())"
   ]
  },
  {
   "cell_type": "code",
   "execution_count": 23,
   "metadata": {
    "collapsed": true
   },
   "outputs": [],
   "source": [
    "filteredRDD = improvedRDD.filter(lambda line : \"TMIN\" in line[1]) # here line will come in form of tuples, not strings\n",
    "print(filteredRDD.collect())"
   ]
  },
  {
   "cell_type": "code",
   "execution_count": 24,
   "metadata": {
    "collapsed": true
   },
   "outputs": [],
   "source": [
    "stationTemp = filteredRDD.map(lambda line : (line[0],line[2]))  # here also line will come as tuple\n",
    "print(stationTemp.collect())"
   ]
  },
  {
   "cell_type": "code",
   "execution_count": 15,
   "metadata": {},
   "outputs": [
    {
     "name": "stdout",
     "output_type": "stream",
     "text": [
      "[('ITE00100554', <pyspark.resultiterable.ResultIterable object at 0x109c296d8>), ('EZE00100082', <pyspark.resultiterable.ResultIterable object at 0x109c29710>)]\n"
     ]
    }
   ],
   "source": [
    "# tempByStation = stationTemp.groupByKey()\n",
    "# print(tempByStation.collect())"
   ]
  },
  {
   "cell_type": "code",
   "execution_count": 18,
   "metadata": {},
   "outputs": [
    {
     "name": "stdout",
     "output_type": "stream",
     "text": [
      "[('ITE00100554', -148.0), ('EZE00100082', -135.0)]\n"
     ]
    }
   ],
   "source": [
    "# minTempByStation = tempByStation.mapValues(lambda x : min(x))\n",
    "# print(minTempByStation.collect())"
   ]
  },
  {
   "cell_type": "code",
   "execution_count": 20,
   "metadata": {},
   "outputs": [
    {
     "name": "stdout",
     "output_type": "stream",
     "text": [
      "[('ITE00100554', -148.0), ('EZE00100082', -135.0)]\n"
     ]
    }
   ],
   "source": [
    "resultedRDD = stationTemp.reduceByKey(lambda x,y : min(x,y))\n",
    "print(resultedRDD.collect())"
   ]
  },
  {
   "cell_type": "code",
   "execution_count": null,
   "metadata": {
    "collapsed": true
   },
   "outputs": [],
   "source": [
    "# END"
   ]
  }
 ],
 "metadata": {
  "kernelspec": {
   "display_name": "Python 3",
   "language": "python",
   "name": "python3"
  },
  "language_info": {
   "codemirror_mode": {
    "name": "ipython",
    "version": 3
   },
   "file_extension": ".py",
   "mimetype": "text/x-python",
   "name": "python",
   "nbconvert_exporter": "python",
   "pygments_lexer": "ipython3",
   "version": "3.6.3"
  }
 },
 "nbformat": 4,
 "nbformat_minor": 2
}
