{
 "cells": [
  {
   "cell_type": "code",
   "execution_count": 1,
   "metadata": {
    "collapsed": true
   },
   "outputs": [],
   "source": [
    "import findspark\n",
    "findspark.init()"
   ]
  },
  {
   "cell_type": "code",
   "execution_count": 2,
   "metadata": {
    "collapsed": true
   },
   "outputs": [],
   "source": [
    "from pyspark.sql import SparkSession,Row"
   ]
  },
  {
   "cell_type": "code",
   "execution_count": 3,
   "metadata": {
    "collapsed": true
   },
   "outputs": [],
   "source": [
    "spark = SparkSession.builder.appName('recreate3').getOrCreate()"
   ]
  },
  {
   "cell_type": "code",
   "execution_count": 4,
   "metadata": {},
   "outputs": [
    {
     "name": "stdout",
     "output_type": "stream",
     "text": [
      "<pyspark.sql.session.SparkSession object at 0x10a3549e8>\n",
      "<class 'pyspark.sql.session.SparkSession'>\n"
     ]
    }
   ],
   "source": [
    "print(spark)\n",
    "print(type(spark))"
   ]
  },
  {
   "cell_type": "code",
   "execution_count": 5,
   "metadata": {},
   "outputs": [
    {
     "name": "stdout",
     "output_type": "stream",
     "text": [
      "<SparkContext master=local[*] appName=recreate3>\n"
     ]
    }
   ],
   "source": [
    "sc = spark.sparkContext\n",
    "print(sc)"
   ]
  },
  {
   "cell_type": "code",
   "execution_count": 6,
   "metadata": {},
   "outputs": [
    {
     "name": "stdout",
     "output_type": "stream",
     "text": [
      "file:///Users/hdagar3/Documents/Spark_Things/Spark_Course_Files_FraneKane/1800.csv MapPartitionsRDD[1] at textFile at NativeMethodAccessorImpl.java:0\n"
     ]
    }
   ],
   "source": [
    "rdd = sc.textFile('file:///Users/hdagar3/Documents/Spark_Things/Spark_Course_Files_FraneKane/1800.csv')\n",
    "print(rdd)"
   ]
  },
  {
   "cell_type": "code",
   "execution_count": 7,
   "metadata": {},
   "outputs": [
    {
     "name": "stdout",
     "output_type": "stream",
     "text": [
      "['ITE00100554,18001231,TMIN,25,,,E,', 'ITE00100554,18001231,TMAX,50,,,E,', 'ITE00100554,18001230,TMIN,31,,,E,']\n"
     ]
    }
   ],
   "source": [
    "print(rdd.top(3))"
   ]
  },
  {
   "cell_type": "code",
   "execution_count": 8,
   "metadata": {
    "collapsed": true
   },
   "outputs": [],
   "source": [
    "# Converting unstructured data to structured by defining RDD of Row object\n",
    "def split_function(line):\n",
    "    info = line.split(\",\")\n",
    "    return Row(station_id=info[0],entry_type=info[2],temperature=float(info[3]))"
   ]
  },
  {
   "cell_type": "code",
   "execution_count": 9,
   "metadata": {
    "collapsed": true
   },
   "outputs": [],
   "source": [
    "another_rdd = rdd.map(split_function)"
   ]
  },
  {
   "cell_type": "code",
   "execution_count": 12,
   "metadata": {
    "collapsed": true
   },
   "outputs": [],
   "source": [
    "df = spark.createDataFrame(another_rdd).cache()"
   ]
  },
  {
   "cell_type": "code",
   "execution_count": 13,
   "metadata": {},
   "outputs": [
    {
     "name": "stdout",
     "output_type": "stream",
     "text": [
      "+----------+-----------+-----------+\n",
      "|entry_type| station_id|temperature|\n",
      "+----------+-----------+-----------+\n",
      "|      TMAX|ITE00100554|      -75.0|\n",
      "|      TMIN|ITE00100554|     -148.0|\n",
      "|      PRCP|GM000010962|        0.0|\n",
      "|      TMAX|EZE00100082|      -86.0|\n",
      "|      TMIN|EZE00100082|     -135.0|\n",
      "|      TMAX|ITE00100554|      -60.0|\n",
      "|      TMIN|ITE00100554|     -125.0|\n",
      "|      PRCP|GM000010962|        0.0|\n",
      "|      TMAX|EZE00100082|      -44.0|\n",
      "|      TMIN|EZE00100082|     -130.0|\n",
      "|      TMAX|ITE00100554|      -23.0|\n",
      "|      TMIN|ITE00100554|      -46.0|\n",
      "|      PRCP|GM000010962|        4.0|\n",
      "|      TMAX|EZE00100082|      -10.0|\n",
      "|      TMIN|EZE00100082|      -73.0|\n",
      "|      TMAX|ITE00100554|        0.0|\n",
      "|      TMIN|ITE00100554|      -13.0|\n",
      "|      PRCP|GM000010962|        0.0|\n",
      "|      TMAX|EZE00100082|      -55.0|\n",
      "|      TMIN|EZE00100082|      -74.0|\n",
      "+----------+-----------+-----------+\n",
      "only showing top 20 rows\n",
      "\n"
     ]
    }
   ],
   "source": [
    "df.show()"
   ]
  },
  {
   "cell_type": "code",
   "execution_count": 14,
   "metadata": {},
   "outputs": [
    {
     "ename": "ValueError",
     "evalue": "Cannot apply 'in' operator against a column: please use 'contains' in a string column or 'array_contains' function for an array column.",
     "output_type": "error",
     "traceback": [
      "\u001b[0;31m---------------------------------------------------------------------------\u001b[0m",
      "\u001b[0;31mValueError\u001b[0m                                Traceback (most recent call last)",
      "\u001b[0;32m<ipython-input-14-0d02b5a6890d>\u001b[0m in \u001b[0;36m<module>\u001b[0;34m()\u001b[0m\n\u001b[0;32m----> 1\u001b[0;31m \u001b[0mfiltered_df\u001b[0m \u001b[0;34m=\u001b[0m \u001b[0mdf\u001b[0m\u001b[0;34m.\u001b[0m\u001b[0mfilter\u001b[0m\u001b[0;34m(\u001b[0m\u001b[0;34m'TMIN'\u001b[0m \u001b[0;32min\u001b[0m \u001b[0mdf\u001b[0m\u001b[0;34m[\u001b[0m\u001b[0;34m'entry_type'\u001b[0m\u001b[0;34m]\u001b[0m\u001b[0;34m)\u001b[0m\u001b[0;34m\u001b[0m\u001b[0m\n\u001b[0m",
      "\u001b[0;32m~/spark/spark-2.2.0-bin-without-hadoop/python/pyspark/sql/column.py\u001b[0m in \u001b[0;36m__contains__\u001b[0;34m(self, item)\u001b[0m\n\u001b[1;32m    182\u001b[0m     \u001b[0;31m# container operators\u001b[0m\u001b[0;34m\u001b[0m\u001b[0;34m\u001b[0m\u001b[0m\n\u001b[1;32m    183\u001b[0m     \u001b[0;32mdef\u001b[0m \u001b[0m__contains__\u001b[0m\u001b[0;34m(\u001b[0m\u001b[0mself\u001b[0m\u001b[0;34m,\u001b[0m \u001b[0mitem\u001b[0m\u001b[0;34m)\u001b[0m\u001b[0;34m:\u001b[0m\u001b[0;34m\u001b[0m\u001b[0m\n\u001b[0;32m--> 184\u001b[0;31m         raise ValueError(\"Cannot apply 'in' operator against a column: please use 'contains' \"\n\u001b[0m\u001b[1;32m    185\u001b[0m                          \"in a string column or 'array_contains' function for an array column.\")\n\u001b[1;32m    186\u001b[0m \u001b[0;34m\u001b[0m\u001b[0m\n",
      "\u001b[0;31mValueError\u001b[0m: Cannot apply 'in' operator against a column: please use 'contains' in a string column or 'array_contains' function for an array column."
     ]
    }
   ],
   "source": [
    "filtered_df = df.filter(df['entry_type'])"
   ]
  },
  {
   "cell_type": "code",
   "execution_count": null,
   "metadata": {
    "collapsed": true
   },
   "outputs": [],
   "source": []
  }
 ],
 "metadata": {
  "kernelspec": {
   "display_name": "Python 3",
   "language": "python",
   "name": "python3"
  },
  "language_info": {
   "codemirror_mode": {
    "name": "ipython",
    "version": 3
   },
   "file_extension": ".py",
   "mimetype": "text/x-python",
   "name": "python",
   "nbconvert_exporter": "python",
   "pygments_lexer": "ipython3",
   "version": "3.6.3"
  }
 },
 "nbformat": 4,
 "nbformat_minor": 2
}
